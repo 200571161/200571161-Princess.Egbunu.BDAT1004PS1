{
 "cells": [
  {
   "cell_type": "markdown",
   "id": "c76ac594-b1d8-4e56-853b-d7147162a1b1",
   "metadata": {},
   "source": [
    "# Question 1\n",
    "\n",
    "What data type is each of the following (evaluate where necessary)?\n",
    "5\n",
    "5.0\n",
    "5 > 1\n",
    "'5'\n",
    "5 * 2\n",
    "'5' * 2\n",
    "'5' + '2'\n",
    "5 / 2\n",
    "5 % 2\n",
    "{5, 2, 1}\n",
    "5 == 3\n",
    "Pi (the number)"
   ]
  },
  {
   "cell_type": "code",
   "execution_count": 5,
   "id": "d6594aaf-89fe-4b49-9970-1ea2bb32ef7a",
   "metadata": {
    "scrolled": true
   },
   "outputs": [
    {
     "name": "stdout",
     "output_type": "stream",
     "text": [
      "<class 'int'>\n",
      "<class 'float'>\n",
      "<class 'int'>\n",
      "<class 'str'>\n",
      "<class 'float'>\n",
      "<class 'int'>\n",
      "<class 'set'>\n",
      "<class 'bool'>\n",
      "<class 'float'>\n"
     ]
    }
   ],
   "source": [
    "#Answers to question 1\n",
    "x = 5;\n",
    "print(type(x))\n",
    "\n",
    "x = 5.0;\n",
    "print(type(x))\n",
    "\n",
    "x = (5*2)\n",
    "print(type(x))\n",
    "\n",
    "x = '5' + '2'\n",
    "print(type(x))\n",
    "\n",
    "x = 5 / 2\n",
    "print(type(x))\n",
    "\n",
    "x = 5 % 2\n",
    "print(type(x))\n",
    "\n",
    "x = {5, 2, 1}\n",
    "print(type(x))\n",
    "\n",
    "x = 5 == 3\n",
    "print(type(5==3))\n",
    "\n",
    "import math\n",
    "print(type(math.pi))"
   ]
  },
  {
   "cell_type": "markdown",
   "id": "e90481b0-cbed-418c-8a72-c02e874a7c8e",
   "metadata": {},
   "source": [
    "# Question 2\n",
    "Write (and evaluate) python expressions that answer these questions:\n",
    "a. How many letters are there in 'Supercalifragilisticexpialidocious'?\n",
    "b. Does 'Supercalifragilisticexpialidocious' contain 'ice' as a substring?\n",
    "c. Which of the following words is the longest:\n",
    "Supercalifragilisticexpialidocious, Honorificabilitudinitatibus, or\n",
    "Bababadalgharaghtakamminarronnkonn?\n",
    "d. Which composer comes first in the dictionary: 'Berlioz', 'Borodin', 'Brian',\n",
    "'Bartok', 'Bellini', 'Buxtehude', 'Bernstein'. Which one comes last?"
   ]
  },
  {
   "cell_type": "code",
   "execution_count": 10,
   "id": "78d5ffbe-d561-454f-9a68-eee24a28a853",
   "metadata": {},
   "outputs": [
    {
     "name": "stdout",
     "output_type": "stream",
     "text": [
      "34\n",
      "True\n",
      "The longest word is orBababadalgharaghtakamminarronnkonn\n",
      "['Bartok', 'Bellini', 'Berlioz', 'Bernstein', 'Borodin', 'Brian', 'Buxtehude']\n"
     ]
    }
   ],
   "source": [
    "#Answers to question 2\n",
    "#a. \n",
    "print(len(\"Supercalifragilisticexpialidocious\"))\n",
    "\n",
    "#b.\n",
    "print('ice' in 'Supercalifragilisticexpialidocious')\n",
    "          \n",
    "#c.\n",
    "strings = [\"Supercalifragilisticexpialidocious\",\"Honorificabilitudinitatibus\",\"orBababadalgharaghtakamminarronnkonn\"]\n",
    "longest_count = 0\n",
    "longest_word = \"\"\n",
    "for x in strings:\n",
    "    if(len(x)>longest_count):\n",
    "        longest_word = x\n",
    "print(\"The longest word is \" + longest_word)\n",
    "       \n",
    "#d.\n",
    "strings = ['Berlioz', 'Borodin', 'Brian','Bartok', 'Bellini', 'Buxtehude', 'Bernstein']\n",
    "strings = sorted(strings)\n",
    "print(strings)"
   ]
  },
  {
   "cell_type": "markdown",
   "id": "ed749902-089f-4d89-81f9-356d11c4dd5f",
   "metadata": {},
   "source": [
    "# Question 3.\n",
    "Implement function triangleArea(a,b,c) that takes as input the lengths of the 3\r\n",
    "sides of a triangle and returns the area of the triangle. By Heron's formula, the are \r\n",
    "of a triangle with side lengths a, b, and c  \n",
    "s\r\n",
    "s(s - a)(s -b)(s c)\r\n",
    ", where\r\n",
    "s = (a+b+c)/2.\r\n",
    ">>> triangleArea(2,2,2)\r\n",
    "1.7320508075688772"
   ]
  },
  {
   "cell_type": "code",
   "execution_count": 46,
   "id": "9206c84e-ab16-45c9-b9df-53d12cbc0519",
   "metadata": {},
   "outputs": [
    {
     "name": "stdout",
     "output_type": "stream",
     "text": [
      "1.7320508075688772\n"
     ]
    }
   ],
   "source": [
    "#answer to question 3\n",
    "import math\n",
    "def triangeArea(a, b,c):\n",
    "    s = ((a+b+c)/2)\n",
    "    area = math.sqrt(s*(s-a)*(s-b)*(s-c))\n",
    "    return area\n",
    "print(triangeArea(2,2,2))"
   ]
  },
  {
   "cell_type": "markdown",
   "id": "5704ba87-7e3c-4376-9eeb-168ed2dd66d6",
   "metadata": {},
   "source": [
    "# Question 4\n",
    "Write a program in python to separate odd and even integers in separate arrays. Go\n",
    "to the editor\n",
    "Test Data :\n",
    "Input the number of elements to be stored in the array :5\n",
    "Input 5 elements in the array :\n",
    "element - 0 : 25\n",
    "element - 1 : 47\n",
    "element - 2 : 42\n",
    "element - 3 : 56\n",
    "element - 4 : 32\n",
    "Expected Output:\n",
    "The Even elements are:\n",
    "42 56 32\n",
    "The Odd elements are :\n",
    "25 47"
   ]
  },
  {
   "cell_type": "code",
   "execution_count": 47,
   "id": "480f38bd-30cd-422c-acf5-198015a690c7",
   "metadata": {},
   "outputs": [
    {
     "name": "stdout",
     "output_type": "stream",
     "text": [
      "[42, 56, 32]\n",
      "[25, 47]\n"
     ]
    }
   ],
   "source": [
    "#answer to question 4\n",
    "even_num = []\n",
    "odd_num = []\n",
    "given_string = [25,47,42,56,32]\n",
    "for x in given_string:\n",
    "    if(x%2==0):\n",
    "        even_num.append(x)\n",
    "    else:\n",
    "        odd_num.append(x)\n",
    "\n",
    "print(even_num)\n",
    "print(odd_num)"
   ]
  },
  {
   "cell_type": "markdown",
   "id": "40d5bf56-d046-4a51-8d17-b5ba9beb4b9e",
   "metadata": {},
   "source": [
    "# Question 5\n",
    "#a. \n",
    "Write a function inside(x,y,x1,y1,x2,y2) that returns True or False\n",
    "depending on whether the point (x,y) lies in the rectangle with lower left\n",
    "corner (x1,y1) and upper right corner (x2,y2).\n",
    "\n",
    ">>> inside(1,1,0,0,2,3)\n",
    "True\n",
    ">>> inside(-1,-1,0,0,2,3)\n",
    "False\n",
    "b. \n",
    "Use function inside() from part a. to write an expression that tests whether\n",
    "the point (1,1) lies in both of the following rectangles: one with lower left\n",
    "corner (0.3, 0.5) and upper right corner (1.1, 0.7) and t"
   ]
  },
  {
   "cell_type": "code",
   "execution_count": 49,
   "id": "8096e69f-aa79-47b9-bac4-aa8ae1c84f7c",
   "metadata": {},
   "outputs": [
    {
     "name": "stdout",
     "output_type": "stream",
     "text": [
      "True\n",
      "False\n"
     ]
    }
   ],
   "source": [
    "#Answer to question 5\n",
    "#a\n",
    "def inside(x,y,x1,y1,x2,y2):\n",
    "    if (x > x1 and x < x2 and\n",
    "        y > y1 and y < y2) :\n",
    "        return True\n",
    "    else :\n",
    "        return False\n",
    "print(inside(1,1,0,0,2,3))\n",
    "print(inside(-1,-1,0,0,2,3))"
   ]
  },
  {
   "cell_type": "code",
   "execution_count": 50,
   "id": "17af3974-b33c-4cdd-9c63-e017b43af24e",
   "metadata": {},
   "outputs": [
    {
     "name": "stdout",
     "output_type": "stream",
     "text": [
      "False\n",
      "True\n"
     ]
    }
   ],
   "source": [
    "#b\n",
    "def inside(x,y,x1,y1,x2,y2):\n",
    "    if (x > x1 and x < x2 and\n",
    "        y > y1 and y < y2) :\n",
    "        return True\n",
    "    else :\n",
    "        return False\n",
    "print(inside(1,1,0.3,0.5,1.1,0.7))\n",
    "print(inside(1,1,0.5,0.2,1.1,2.0))"
   ]
  },
  {
   "cell_type": "markdown",
   "id": "a122092c-623d-4221-9dde-486dfa31ff2a",
   "metadata": {},
   "source": [
    "# Question 6\r",
    "You can turn a word into pig-Latin using the following two rules (simplified):\r\n",
    "• If the word starts with a consonant, move that letter to the end and appe d\r\n",
    "'ay\n",
    "'. For example, 'happy' becomes 'appyhay' and 'pencil' beco es 'encilpay'.\r\n",
    "• If the word starts with a vowel, simply append 'way' to the end of the word.\r\n",
    "For example, 'enter' becomes 'enterway' and 'other' becomes 'otherwa\n",
    "y'   For\r\n",
    "our purposes, there are 5 vowels: a, e, i, o, u (so we count y as a consonant).\r\n",
    "Write a function pig() that takes a word (i.e., a string) as input and returns its pigLatin form. Your function should still work if the input word contains upp r case\r\n",
    "characters. Your output should always be lower case however.\r\n",
    ">>> pig('happy')\r\n",
    "'appyhay'\r\n",
    ">ter')\r\n",
    "'enterwayer')>> pig('Ent"
   ]
  },
  {
   "cell_type": "code",
   "execution_count": 51,
   "id": "e6ec5671-e6ff-4f9d-a4e7-b98151f582df",
   "metadata": {},
   "outputs": [
    {
     "name": "stdout",
     "output_type": "stream",
     "text": [
      "Enter a string\n"
     ]
    },
    {
     "name": "stdin",
     "output_type": "stream",
     "text": [
      " happy\n"
     ]
    },
    {
     "name": "stdout",
     "output_type": "stream",
     "text": [
      "appyhay\n",
      "\n",
      "Enter a string\n"
     ]
    },
    {
     "name": "stdin",
     "output_type": "stream",
     "text": [
      " enter\n"
     ]
    },
    {
     "name": "stdout",
     "output_type": "stream",
     "text": [
      "enterway\n"
     ]
    }
   ],
   "source": [
    "#answer to question 6\n",
    "def pig(get_input):\n",
    "    string = get_input\n",
    "    arr_char = []\n",
    "    for x in string:\n",
    "            arr_char.append(x)\n",
    "    concat_string = \"\"\n",
    "    x = arr_char[0]\n",
    "\n",
    "             \n",
    "    if(x=='a' or x=='e' or x=='i' or x=='o' or x=='u'):\n",
    "            arr_char.append('way')\n",
    "    else:\n",
    "            arr_char.pop(0)\n",
    "            arr_char.append(x)\n",
    "            arr_char.append('ay') \n",
    "              \n",
    "    for x in arr_char:\n",
    "            concat_string +=x\n",
    "\n",
    "    return concat_string\n",
    "\n",
    "print(\"Enter a string\")\n",
    "get_value_from_user = input()\n",
    "print(pig(get_value_from_user))\n",
    "print(\"\\nEnter a string\")\n",
    "get_value_from_user = input()\n",
    "print(pig(get_value_from_user))"
   ]
  },
  {
   "cell_type": "markdown",
   "id": "9dcee688-03a8-4496-8b40-3bfe04311e7c",
   "metadata": {},
   "source": [
    "# Question 7\r\n",
    "File bloodtype1.txt records blood-types of patients (A, B, AB, O or OO) at a clinic \r\n",
    "Write a function bldcount() that reads the file with name name and reports (i.e ,\r\n",
    "prints) how many patients there are in each bl oodtype.\r\n",
    ">>> bldcount('bloodtype.txt')\r\n",
    "There are 10 patients of blood type A.\r\n",
    "There is one patient of blood type B.\r\n",
    "There are 10 patients of blood type AB.\r\n",
    "There are 12 patients of blood type O.\r\n",
    "There are no patients of blood type OO."
   ]
  },
  {
   "cell_type": "code",
   "execution_count": 52,
   "id": "e5747bcd-4b8f-475b-9084-7c3d1e42a629",
   "metadata": {},
   "outputs": [
    {
     "name": "stdout",
     "output_type": "stream",
     "text": [
      "There are 10 patients of blood type A.\n",
      "There is one patient of blood type B.\n",
      "There are 10 patients of blood type AB.\n",
      "There are 12 patients of blood type O.\n",
      "There are no patients of blood type OO.\n"
     ]
    }
   ],
   "source": [
    "#answer to question 7\n",
    "def bldcount(filename):\n",
    "    with open(filename, 'r') as file:\n",
    "        content = file.read()\n",
    "\n",
    "    blood_types = content.split()\n",
    "    blood_type_counts = {'A': 0, 'B': 0, 'AB': 0, 'O': 0, 'OO': 0}\n",
    "\n",
    "    for blood_type in blood_types:\n",
    "        if blood_type in blood_type_counts:\n",
    "            blood_type_counts[blood_type] += 1\n",
    "\n",
    "    for blood_type, count in blood_type_counts.items():\n",
    "        if count == 0:\n",
    "            print(f\"There are no patients of blood type {blood_type}.\")\n",
    "        elif count == 1:\n",
    "            print(f\"There is one patient of blood type {blood_type}.\")\n",
    "        else:\n",
    "            print(f\"There are {count} patients of blood type {blood_type}.\")\n",
    "\n",
    "\n",
    "bldcount('bloodtype1.txt')"
   ]
  },
  {
   "cell_type": "markdown",
   "id": "836bfb4f-865e-4e78-b712-884224f40866",
   "metadata": {},
   "source": [
    "# Question 8\n",
    "Write a function curconv() that takes as input:\n",
    "1. a currency represented using a string (e.g., 'JPY' for the Japanese Yen or 'EUR' for the Euro)\n",
    "2. an amount and then converts and returns the amount in US dollars.\n",
    ">>> curconv('EUR', 100)\n",
    "122.96544\n",
    ">>> curconv('JPY', 100)\n",
    "1.24140189 Thai Baht\r"
   ]
  },
  {
   "cell_type": "code",
   "execution_count": 53,
   "id": "ec4e6d74-47cb-4dd3-a860-28252a8927e0",
   "metadata": {},
   "outputs": [
    {
     "name": "stdout",
     "output_type": "stream",
     "text": [
      "122.96544\n",
      "1.241401\n"
     ]
    }
   ],
   "source": [
    "#answer to question 8\n",
    "def curconv(currency, amount):\n",
    "    conversion_rates = {}\n",
    "    with open('currencies.txt', 'r') as file:\n",
    "        for line in file.readlines():\n",
    "            cur, rate, _ = line.split(' ', 2)  \n",
    "            conversion_rates[cur] = float(rate)\n",
    "\n",
    "    return amount * conversion_rates.get(currency)\n",
    "\n",
    "print(curconv('EUR', 100))\n",
    "print(curconv('JPY', 100))"
   ]
  },
  {
   "cell_type": "markdown",
   "id": "ce98e8b2-aabc-4a4f-9b50-fedb1c027de8",
   "metadata": {},
   "source": [
    "# Question 9\n",
    "Each of the following will cause an exception (an error). Identify what type of exception each will cause.\n",
    "a. Trying to add incompatible variables, as in adding 6 + ‘a’\n",
    "b. Referring to the 12th item of a list that has only 10 items\n",
    "c. Using a value that is out of range for a function’s input, such as calling math.sqrt(-1.0)\n",
    "d. Using an undeclared variable, such as print(x) when x has not been defined\n",
    "e. Trying to open a file that does not exist, such as mistyping the file name or looking in the wrong directory. \r\n",
    "directory. "
   ]
  },
  {
   "cell_type": "markdown",
   "id": "ea0b020a-64fe-4bdc-91b3-cc9102b072bd",
   "metadata": {},
   "source": [
    "# Answer to question 9\n",
    "a. Trying to add incompatible variables, as in adding 6 + ‘a’: \n",
    "TypeError: unsupported operand type\n",
    "\n",
    "b. Referring to the 12th item of a list that has only 10 items: \n",
    "IndexError: list index out of range\n",
    "\n",
    "c. Using a value that is out of range for a function’s input, such as calling math.sqrt(-1.0): \n",
    "ValueError: math domain error\n",
    "\n",
    "d. Using an undeclared variable, such as print(x) when x has not been defined: \n",
    "NameError: name 'x' is not defined\n",
    "\n",
    "e. Trying to open a file that does not exist, such as mistyping the file name or looking in the wrong directory.: \n",
    "FileNotFoundError: No such file or directorye"
   ]
  },
  {
   "cell_type": "markdown",
   "id": "3c64be70-1909-4cb4-896d-765dc51a3a6e",
   "metadata": {},
   "source": [
    "# Question 10\n",
    "Encryption is the process of hiding the meaning of a text by substituting letters in the message with other letters, according to some system. If the process is successful, no one but the intended recipient can understand the encrypted message. Cryptanalysis refers to attempts to undo the encryption, even if some details of the encryption are unknown (for example, if an encrypted message has been intercepted). The first step of cryptanalysis is often to build up a table of letter frequencies in the encrypted text. Assume that the string letters is already defined as 'abcdefghijklmnopqrstuvwxyz'. Write a function called frequencies() that takes a string as its only parameter, and returns a list of integers, showing the number of times each character appears in the text. Your function may ignore any characters that are not in letters.\n",
    ">>> frequencies('The quick red fox got bored and went home.')\n",
    "[1, 1, 1, 3, 5, 1, 1, 2, 1, 0, 1, 0, 1, 2, 4, 0, 1, 2, 0, 2,\n",
    "1, 0, 1, 1, 0, 0]\n",
    ">>> frequencies('apple')"
   ]
  },
  {
   "cell_type": "code",
   "execution_count": 1,
   "id": "ae107727-165d-4ca3-ad04-8b940db63f05",
   "metadata": {},
   "outputs": [
    {
     "name": "stdout",
     "output_type": "stream",
     "text": [
      "1\n",
      "1\n",
      "1\n",
      "3\n",
      "5\n",
      "1\n",
      "1\n",
      "2\n",
      "1\n",
      "0\n",
      "1\n",
      "0\n",
      "1\n",
      "2\n",
      "4\n",
      "0\n",
      "1\n",
      "2\n",
      "0\n",
      "2\n",
      "1\n",
      "0\n",
      "1\n",
      "1\n",
      "0\n",
      "0\n"
     ]
    }
   ],
   "source": [
    "#answer to question 10\n",
    "def frequencies(get_string):\n",
    "    char_string = []\n",
    "    string_alphabets = \"abcdefghijklmnopkrstuvwxyz\"\n",
    "\n",
    "    for x in get_string:\n",
    "        char_string.append(x)\n",
    "    \n",
    "    for x in string_alphabets:\n",
    "        print(char_string.count(x))\n",
    "        \n",
    "\n",
    "frequencies('The quick red fox got bored and went home')"
   ]
  },
  {
   "cell_type": "code",
   "execution_count": null,
   "id": "a19d9a41-d65b-4356-b8ad-a06556287491",
   "metadata": {},
   "outputs": [],
   "source": []
  }
 ],
 "metadata": {
  "kernelspec": {
   "display_name": "Python 3 (ipykernel)",
   "language": "python",
   "name": "python3"
  },
  "language_info": {
   "codemirror_mode": {
    "name": "ipython",
    "version": 3
   },
   "file_extension": ".py",
   "mimetype": "text/x-python",
   "name": "python",
   "nbconvert_exporter": "python",
   "pygments_lexer": "ipython3",
   "version": "3.11.5"
  }
 },
 "nbformat": 4,
 "nbformat_minor": 5
}
